{
 "cells": [
  {
   "cell_type": "markdown",
   "id": "6c6fad08",
   "metadata": {},
   "source": [
    "## n個の中からｒ個を組み合わせの数$C_n^r$を求める\n",
    "\n",
    "$$\n",
    "\\begin{align}\n",
    "C_n^r=\\frac{n!}{r!(n-r)!}\\notag\n",
    "\\end{align}\n",
    "$$\n",
    "この式でこのまま計算する場合大きな$n$の値に対して$n!$でオーバーフロー可能性がある\n",
    "例えば\n",
    "\n",
    "$$\n",
    "\\begin{align}\n",
    "C_{10}^5=\\frac{10!}{5!5!}=\\frac{3628800}{120\\cdot120}=252\\notag\n",
    "\\end{align}\n",
    "$$\n",
    "最終結果はオーバーフローしない値でも、$int$型なら$10!$のところでオーバーフローしてしまう\n",
    "\n",
    "$C_n^r$は$\n",
    "\\left\\{\n",
    "\\begin{alignedat}{2}\n",
    "C_n^r&=\\frac{n-r+1}{r}C_n^{r-1}\\\\\n",
    "C_n^0&=1\n",
    "\\end{alignedat}\n",
    "\\right.\n",
    "$\n",
    "という漸化式をもちいて表現できる"
   ]
  },
  {
   "cell_type": "code",
   "execution_count": null,
   "id": "36f5ac8a",
   "metadata": {},
   "outputs": [],
   "source": []
  }
 ],
 "metadata": {
  "kernelspec": {
   "display_name": "Python 3 (ipykernel)",
   "language": "python",
   "name": "python3"
  },
  "language_info": {
   "codemirror_mode": {
    "name": "ipython",
    "version": 3
   },
   "file_extension": ".py",
   "mimetype": "text/x-python",
   "name": "python",
   "nbconvert_exporter": "python",
   "pygments_lexer": "ipython3",
   "version": "3.9.12"
  }
 },
 "nbformat": 4,
 "nbformat_minor": 5
}
